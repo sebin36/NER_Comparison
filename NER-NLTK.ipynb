{
 "cells": [
  {
   "cell_type": "code",
   "execution_count": 3,
   "id": "1b041291",
   "metadata": {},
   "outputs": [
    {
     "name": "stdout",
     "output_type": "stream",
     "text": [
      "Article:  UK police brace for further violent unrest in wake of Southport stabbings - CNN\n",
      "\n",
      "Entities using NLTK:\n",
      "Southport GPE\n",
      "CNN ORGANIZATION\n"
     ]
    }
   ],
   "source": [
    "import requests\n",
    "import nltk\n",
    "from nltk import word_tokenize, pos_tag, ne_chunk\n",
    "\n",
    "# # Download NLTK data\n",
    "# nltk.download('punkt')\n",
    "# nltk.download('maxent_ne_chunker')\n",
    "# nltk.download('words')\n",
    "# nltk.download('averaged_perceptron_tagger')\n",
    "\n",
    "# Replace with your own News API key\n",
    "api_key = 'eaf56056611d492d9dc3021d739bbaf2'\n",
    "url = f'https://newsapi.org/v2/top-headlines?country=us&apiKey={api_key}'\n",
    "\n",
    "response = requests.get(url)\n",
    "articles = response.json()['articles']\n",
    "\n",
    "# Use the first article for extraction\n",
    "article = articles[0]\n",
    "\n",
    "# Check if content is available, fallback to description or title\n",
    "content = article.get('content') or article.get('description') or article.get('title')\n",
    "if not content:\n",
    "    raise ValueError(\"No valid content found in the article\")\n",
    "\n",
    "print(\"Article: \", content)\n",
    "\n",
    "# Tokenize and POS tag the article\n",
    "tokens = word_tokenize(content)\n",
    "pos_tags = pos_tag(tokens)\n",
    "\n",
    "# Extract entities using NLTK\n",
    "print(\"\\nEntities using NLTK:\")\n",
    "entities = ne_chunk(pos_tags)\n",
    "for chunk in entities:\n",
    "    if hasattr(chunk, 'label'):\n",
    "        print(' '.join(c[0] for c in chunk), chunk.label())"
   ]
  },
  {
   "cell_type": "code",
   "execution_count": null,
   "id": "f0d296ed",
   "metadata": {},
   "outputs": [],
   "source": []
  }
 ],
 "metadata": {
  "kernelspec": {
   "display_name": "Python 3 (ipykernel)",
   "language": "python",
   "name": "python3"
  },
  "language_info": {
   "codemirror_mode": {
    "name": "ipython",
    "version": 3
   },
   "file_extension": ".py",
   "mimetype": "text/x-python",
   "name": "python",
   "nbconvert_exporter": "python",
   "pygments_lexer": "ipython3",
   "version": "3.9.12"
  }
 },
 "nbformat": 4,
 "nbformat_minor": 5
}
