{
 "cells": [
  {
   "cell_type": "code",
   "execution_count": 9,
   "id": "f3dee128",
   "metadata": {},
   "outputs": [
    {
     "name": "stdout",
     "output_type": "stream",
     "text": [
      "Article:  UK police brace for further violent unrest in wake of Southport stabbings - CNN\n",
      "\n",
      "Entities using SpaCy:\n",
      "UK GPE\n",
      "Southport GPE\n",
      "CNN ORG\n"
     ]
    }
   ],
   "source": [
    "import requests\n",
    "import spacy\n",
    "\n",
    "# Replace with your own News API key\n",
    "api_key = 'eaf56056611d492d9dc3021d739bbaf2'\n",
    "url = f'https://newsapi.org/v2/top-headlines?country=us&apiKey={api_key}'\n",
    "\n",
    "response = requests.get(url)\n",
    "articles = response.json()['articles']\n",
    "\n",
    "# Use the first article for extraction\n",
    "article = articles[0]\n",
    "\n",
    "# Check if content is available, fallback to description or title\n",
    "content = article.get('content') or article.get('description') or article.get('title')\n",
    "if not content:\n",
    "    raise ValueError(\"No valid content found in the article\")\n",
    "\n",
    "print(\"Article: \", content)\n",
    "\n",
    "# Load SpaCy model\n",
    "nlp = spacy.load('en_core_web_sm')\n",
    "doc = nlp(content)\n",
    "\n",
    "# Extract entities using SpaCy\n",
    "print(\"\\nEntities using SpaCy:\")\n",
    "for ent in doc.ents:\n",
    "    print(ent.text, ent.label_)\n"
   ]
  },
  {
   "cell_type": "code",
   "execution_count": null,
   "id": "01de728f",
   "metadata": {},
   "outputs": [],
   "source": []
  }
 ],
 "metadata": {
  "kernelspec": {
   "display_name": "Python 3 (ipykernel)",
   "language": "python",
   "name": "python3"
  },
  "language_info": {
   "codemirror_mode": {
    "name": "ipython",
    "version": 3
   },
   "file_extension": ".py",
   "mimetype": "text/x-python",
   "name": "python",
   "nbconvert_exporter": "python",
   "pygments_lexer": "ipython3",
   "version": "3.9.12"
  }
 },
 "nbformat": 4,
 "nbformat_minor": 5
}
